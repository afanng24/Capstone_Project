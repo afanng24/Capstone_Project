{
 "cells": [
  {
   "cell_type": "code",
   "execution_count": 1,
   "id": "5d076e98",
   "metadata": {},
   "outputs": [],
   "source": [
    "import numpy as np\n",
    "import pandas as pd\n",
    "from pathlib import Path\n",
    "from collections import Counter\n",
    "import csv"
   ]
  },
  {
   "cell_type": "code",
   "execution_count": 2,
   "id": "7f5f4b1b",
   "metadata": {},
   "outputs": [],
   "source": [
    "# WARNING THIS DATASET IS & MILLION ROWS LONG AND IT WILL TAKE A WHILE"
   ]
  },
  {
   "cell_type": "code",
   "execution_count": 3,
   "id": "71693fa1",
   "metadata": {},
   "outputs": [],
   "source": [
    "# read the csv\n",
    "columns = ['res_state','res_county','age_group','sex','race','ethnicity','hosp_yn']\n",
    "\n",
    "target = ['hosp_yn']"
   ]
  },
  {
   "cell_type": "code",
   "execution_count": 4,
   "id": "1b18c340",
   "metadata": {},
   "outputs": [
    {
     "data": {
      "text/html": [
       "<div>\n",
       "<style scoped>\n",
       "    .dataframe tbody tr th:only-of-type {\n",
       "        vertical-align: middle;\n",
       "    }\n",
       "\n",
       "    .dataframe tbody tr th {\n",
       "        vertical-align: top;\n",
       "    }\n",
       "\n",
       "    .dataframe thead th {\n",
       "        text-align: right;\n",
       "    }\n",
       "</style>\n",
       "<table border=\"1\" class=\"dataframe\">\n",
       "  <thead>\n",
       "    <tr style=\"text-align: right;\">\n",
       "      <th></th>\n",
       "      <th>res_state</th>\n",
       "      <th>res_county</th>\n",
       "      <th>age_group</th>\n",
       "      <th>sex</th>\n",
       "      <th>race</th>\n",
       "      <th>ethnicity</th>\n",
       "      <th>hosp_yn</th>\n",
       "    </tr>\n",
       "  </thead>\n",
       "  <tbody>\n",
       "    <tr>\n",
       "      <th>0</th>\n",
       "      <td>VA</td>\n",
       "      <td>NORFOLK CITY</td>\n",
       "      <td>18 to 49 years</td>\n",
       "      <td>Female</td>\n",
       "      <td>Multiple/Other</td>\n",
       "      <td>Hispanic/Latino</td>\n",
       "      <td>No</td>\n",
       "    </tr>\n",
       "    <tr>\n",
       "      <th>1</th>\n",
       "      <td>VA</td>\n",
       "      <td>FREDERICK</td>\n",
       "      <td>18 to 49 years</td>\n",
       "      <td>Female</td>\n",
       "      <td>White</td>\n",
       "      <td>Hispanic/Latino</td>\n",
       "      <td>No</td>\n",
       "    </tr>\n",
       "    <tr>\n",
       "      <th>2</th>\n",
       "      <td>VA</td>\n",
       "      <td>FAIRFAX</td>\n",
       "      <td>18 to 49 years</td>\n",
       "      <td>Male</td>\n",
       "      <td>Black</td>\n",
       "      <td>Hispanic/Latino</td>\n",
       "      <td>No</td>\n",
       "    </tr>\n",
       "    <tr>\n",
       "      <th>3</th>\n",
       "      <td>VA</td>\n",
       "      <td>CULPEPER</td>\n",
       "      <td>18 to 49 years</td>\n",
       "      <td>Male</td>\n",
       "      <td>White</td>\n",
       "      <td>Hispanic/Latino</td>\n",
       "      <td>No</td>\n",
       "    </tr>\n",
       "    <tr>\n",
       "      <th>4</th>\n",
       "      <td>VA</td>\n",
       "      <td>ALBEMARLE</td>\n",
       "      <td>18 to 49 years</td>\n",
       "      <td>Male</td>\n",
       "      <td>White</td>\n",
       "      <td>Hispanic/Latino</td>\n",
       "      <td>No</td>\n",
       "    </tr>\n",
       "  </tbody>\n",
       "</table>\n",
       "</div>"
      ],
      "text/plain": [
       "  res_state    res_county       age_group     sex            race  \\\n",
       "0        VA  NORFOLK CITY  18 to 49 years  Female  Multiple/Other   \n",
       "1        VA     FREDERICK  18 to 49 years  Female           White   \n",
       "2        VA       FAIRFAX  18 to 49 years    Male           Black   \n",
       "3        VA      CULPEPER  18 to 49 years    Male           White   \n",
       "4        VA     ALBEMARLE  18 to 49 years    Male           White   \n",
       "\n",
       "         ethnicity hosp_yn  \n",
       "0  Hispanic/Latino      No  \n",
       "1  Hispanic/Latino      No  \n",
       "2  Hispanic/Latino      No  \n",
       "3  Hispanic/Latino      No  \n",
       "4  Hispanic/Latino      No  "
      ]
     },
     "execution_count": 4,
     "metadata": {},
     "output_type": "execute_result"
    }
   ],
   "source": [
    "df = pd.read_csv('virginia_covid.csv')\n",
    "df.head()"
   ]
  },
  {
   "cell_type": "code",
   "execution_count": 5,
   "id": "0c8307c4",
   "metadata": {},
   "outputs": [
    {
     "data": {
      "text/plain": [
       "res_state     262838\n",
       "res_county    262838\n",
       "age_group     262838\n",
       "sex           262838\n",
       "race          262838\n",
       "ethnicity     262838\n",
       "hosp_yn       262838\n",
       "dtype: int64"
      ]
     },
     "execution_count": 5,
     "metadata": {},
     "output_type": "execute_result"
    }
   ],
   "source": [
    "df.count()"
   ]
  },
  {
   "cell_type": "code",
   "execution_count": 6,
   "id": "d5f5ec15",
   "metadata": {},
   "outputs": [
    {
     "name": "stdout",
     "output_type": "stream",
     "text": [
      "<class 'pandas.core.frame.DataFrame'>\n",
      "RangeIndex: 262838 entries, 0 to 262837\n",
      "Data columns (total 7 columns):\n",
      " #   Column      Non-Null Count   Dtype \n",
      "---  ------      --------------   ----- \n",
      " 0   res_state   262838 non-null  object\n",
      " 1   res_county  262838 non-null  object\n",
      " 2   age_group   262838 non-null  object\n",
      " 3   sex         262838 non-null  object\n",
      " 4   race        262838 non-null  object\n",
      " 5   ethnicity   262838 non-null  object\n",
      " 6   hosp_yn     262838 non-null  object\n",
      "dtypes: object(7)\n",
      "memory usage: 14.0+ MB\n"
     ]
    }
   ],
   "source": [
    "df.info()"
   ]
  },
  {
   "cell_type": "code",
   "execution_count": 7,
   "id": "a4ef8d05",
   "metadata": {},
   "outputs": [],
   "source": [
    "# split the data into trainign and testing"
   ]
  },
  {
   "cell_type": "code",
   "execution_count": 8,
   "id": "add266e6",
   "metadata": {},
   "outputs": [],
   "source": [
    "# Create our features, and drop the laon status and get dummies\n",
    "X = df.drop('hosp_yn', axis=1)\n",
    "X = pd.get_dummies(X)\n",
    "\n",
    "# Create our target\n",
    "y = df['hosp_yn']"
   ]
  },
  {
   "cell_type": "code",
   "execution_count": 9,
   "id": "f7f7c5a5",
   "metadata": {},
   "outputs": [
    {
     "data": {
      "text/html": [
       "<div>\n",
       "<style scoped>\n",
       "    .dataframe tbody tr th:only-of-type {\n",
       "        vertical-align: middle;\n",
       "    }\n",
       "\n",
       "    .dataframe tbody tr th {\n",
       "        vertical-align: top;\n",
       "    }\n",
       "\n",
       "    .dataframe thead th {\n",
       "        text-align: right;\n",
       "    }\n",
       "</style>\n",
       "<table border=\"1\" class=\"dataframe\">\n",
       "  <thead>\n",
       "    <tr style=\"text-align: right;\">\n",
       "      <th></th>\n",
       "      <th>res_state_VA</th>\n",
       "      <th>res_county_ACCOMACK</th>\n",
       "      <th>res_county_ALBEMARLE</th>\n",
       "      <th>res_county_ALEXANDRIA CITY</th>\n",
       "      <th>res_county_AMHERST</th>\n",
       "      <th>res_county_ARLINGTON</th>\n",
       "      <th>res_county_AUGUSTA</th>\n",
       "      <th>res_county_BEDFORD</th>\n",
       "      <th>res_county_BOTETOURT</th>\n",
       "      <th>res_county_BUCHANAN</th>\n",
       "      <th>...</th>\n",
       "      <th>sex_Female</th>\n",
       "      <th>sex_Male</th>\n",
       "      <th>race_American Indian/Alaska Native</th>\n",
       "      <th>race_Asian</th>\n",
       "      <th>race_Black</th>\n",
       "      <th>race_Multiple/Other</th>\n",
       "      <th>race_Native Hawaiian/Other Pacific Islander</th>\n",
       "      <th>race_White</th>\n",
       "      <th>ethnicity_Hispanic/Latino</th>\n",
       "      <th>ethnicity_Non-Hispanic/Latino</th>\n",
       "    </tr>\n",
       "  </thead>\n",
       "  <tbody>\n",
       "    <tr>\n",
       "      <th>count</th>\n",
       "      <td>262838.0</td>\n",
       "      <td>262838.000000</td>\n",
       "      <td>262838.000000</td>\n",
       "      <td>262838.000000</td>\n",
       "      <td>262838.000000</td>\n",
       "      <td>262838.000000</td>\n",
       "      <td>262838.000000</td>\n",
       "      <td>262838.000000</td>\n",
       "      <td>262838.000000</td>\n",
       "      <td>262838.000000</td>\n",
       "      <td>...</td>\n",
       "      <td>262838.000000</td>\n",
       "      <td>262838.000000</td>\n",
       "      <td>262838.000000</td>\n",
       "      <td>262838.000000</td>\n",
       "      <td>262838.000000</td>\n",
       "      <td>262838.000000</td>\n",
       "      <td>262838.000000</td>\n",
       "      <td>262838.000000</td>\n",
       "      <td>262838.000000</td>\n",
       "      <td>262838.000000</td>\n",
       "    </tr>\n",
       "    <tr>\n",
       "      <th>mean</th>\n",
       "      <td>1.0</td>\n",
       "      <td>0.006624</td>\n",
       "      <td>0.009272</td>\n",
       "      <td>0.023585</td>\n",
       "      <td>0.002656</td>\n",
       "      <td>0.029395</td>\n",
       "      <td>0.007906</td>\n",
       "      <td>0.007921</td>\n",
       "      <td>0.003455</td>\n",
       "      <td>0.002332</td>\n",
       "      <td>...</td>\n",
       "      <td>0.538415</td>\n",
       "      <td>0.461585</td>\n",
       "      <td>0.000053</td>\n",
       "      <td>0.057899</td>\n",
       "      <td>0.237138</td>\n",
       "      <td>0.033922</td>\n",
       "      <td>0.000057</td>\n",
       "      <td>0.670930</td>\n",
       "      <td>0.077797</td>\n",
       "      <td>0.922203</td>\n",
       "    </tr>\n",
       "    <tr>\n",
       "      <th>std</th>\n",
       "      <td>0.0</td>\n",
       "      <td>0.081117</td>\n",
       "      <td>0.095843</td>\n",
       "      <td>0.151752</td>\n",
       "      <td>0.051464</td>\n",
       "      <td>0.168910</td>\n",
       "      <td>0.088564</td>\n",
       "      <td>0.088648</td>\n",
       "      <td>0.058674</td>\n",
       "      <td>0.048237</td>\n",
       "      <td>...</td>\n",
       "      <td>0.498523</td>\n",
       "      <td>0.498523</td>\n",
       "      <td>0.007298</td>\n",
       "      <td>0.233552</td>\n",
       "      <td>0.425329</td>\n",
       "      <td>0.181029</td>\n",
       "      <td>0.007554</td>\n",
       "      <td>0.469876</td>\n",
       "      <td>0.267852</td>\n",
       "      <td>0.267852</td>\n",
       "    </tr>\n",
       "    <tr>\n",
       "      <th>min</th>\n",
       "      <td>1.0</td>\n",
       "      <td>0.000000</td>\n",
       "      <td>0.000000</td>\n",
       "      <td>0.000000</td>\n",
       "      <td>0.000000</td>\n",
       "      <td>0.000000</td>\n",
       "      <td>0.000000</td>\n",
       "      <td>0.000000</td>\n",
       "      <td>0.000000</td>\n",
       "      <td>0.000000</td>\n",
       "      <td>...</td>\n",
       "      <td>0.000000</td>\n",
       "      <td>0.000000</td>\n",
       "      <td>0.000000</td>\n",
       "      <td>0.000000</td>\n",
       "      <td>0.000000</td>\n",
       "      <td>0.000000</td>\n",
       "      <td>0.000000</td>\n",
       "      <td>0.000000</td>\n",
       "      <td>0.000000</td>\n",
       "      <td>0.000000</td>\n",
       "    </tr>\n",
       "    <tr>\n",
       "      <th>25%</th>\n",
       "      <td>1.0</td>\n",
       "      <td>0.000000</td>\n",
       "      <td>0.000000</td>\n",
       "      <td>0.000000</td>\n",
       "      <td>0.000000</td>\n",
       "      <td>0.000000</td>\n",
       "      <td>0.000000</td>\n",
       "      <td>0.000000</td>\n",
       "      <td>0.000000</td>\n",
       "      <td>0.000000</td>\n",
       "      <td>...</td>\n",
       "      <td>0.000000</td>\n",
       "      <td>0.000000</td>\n",
       "      <td>0.000000</td>\n",
       "      <td>0.000000</td>\n",
       "      <td>0.000000</td>\n",
       "      <td>0.000000</td>\n",
       "      <td>0.000000</td>\n",
       "      <td>0.000000</td>\n",
       "      <td>0.000000</td>\n",
       "      <td>1.000000</td>\n",
       "    </tr>\n",
       "    <tr>\n",
       "      <th>50%</th>\n",
       "      <td>1.0</td>\n",
       "      <td>0.000000</td>\n",
       "      <td>0.000000</td>\n",
       "      <td>0.000000</td>\n",
       "      <td>0.000000</td>\n",
       "      <td>0.000000</td>\n",
       "      <td>0.000000</td>\n",
       "      <td>0.000000</td>\n",
       "      <td>0.000000</td>\n",
       "      <td>0.000000</td>\n",
       "      <td>...</td>\n",
       "      <td>1.000000</td>\n",
       "      <td>0.000000</td>\n",
       "      <td>0.000000</td>\n",
       "      <td>0.000000</td>\n",
       "      <td>0.000000</td>\n",
       "      <td>0.000000</td>\n",
       "      <td>0.000000</td>\n",
       "      <td>1.000000</td>\n",
       "      <td>0.000000</td>\n",
       "      <td>1.000000</td>\n",
       "    </tr>\n",
       "    <tr>\n",
       "      <th>75%</th>\n",
       "      <td>1.0</td>\n",
       "      <td>0.000000</td>\n",
       "      <td>0.000000</td>\n",
       "      <td>0.000000</td>\n",
       "      <td>0.000000</td>\n",
       "      <td>0.000000</td>\n",
       "      <td>0.000000</td>\n",
       "      <td>0.000000</td>\n",
       "      <td>0.000000</td>\n",
       "      <td>0.000000</td>\n",
       "      <td>...</td>\n",
       "      <td>1.000000</td>\n",
       "      <td>1.000000</td>\n",
       "      <td>0.000000</td>\n",
       "      <td>0.000000</td>\n",
       "      <td>0.000000</td>\n",
       "      <td>0.000000</td>\n",
       "      <td>0.000000</td>\n",
       "      <td>1.000000</td>\n",
       "      <td>0.000000</td>\n",
       "      <td>1.000000</td>\n",
       "    </tr>\n",
       "    <tr>\n",
       "      <th>max</th>\n",
       "      <td>1.0</td>\n",
       "      <td>1.000000</td>\n",
       "      <td>1.000000</td>\n",
       "      <td>1.000000</td>\n",
       "      <td>1.000000</td>\n",
       "      <td>1.000000</td>\n",
       "      <td>1.000000</td>\n",
       "      <td>1.000000</td>\n",
       "      <td>1.000000</td>\n",
       "      <td>1.000000</td>\n",
       "      <td>...</td>\n",
       "      <td>1.000000</td>\n",
       "      <td>1.000000</td>\n",
       "      <td>1.000000</td>\n",
       "      <td>1.000000</td>\n",
       "      <td>1.000000</td>\n",
       "      <td>1.000000</td>\n",
       "      <td>1.000000</td>\n",
       "      <td>1.000000</td>\n",
       "      <td>1.000000</td>\n",
       "      <td>1.000000</td>\n",
       "    </tr>\n",
       "  </tbody>\n",
       "</table>\n",
       "<p>8 rows × 94 columns</p>\n",
       "</div>"
      ],
      "text/plain": [
       "       res_state_VA  res_county_ACCOMACK  res_county_ALBEMARLE  \\\n",
       "count      262838.0        262838.000000         262838.000000   \n",
       "mean            1.0             0.006624              0.009272   \n",
       "std             0.0             0.081117              0.095843   \n",
       "min             1.0             0.000000              0.000000   \n",
       "25%             1.0             0.000000              0.000000   \n",
       "50%             1.0             0.000000              0.000000   \n",
       "75%             1.0             0.000000              0.000000   \n",
       "max             1.0             1.000000              1.000000   \n",
       "\n",
       "       res_county_ALEXANDRIA CITY  res_county_AMHERST  res_county_ARLINGTON  \\\n",
       "count               262838.000000       262838.000000         262838.000000   \n",
       "mean                     0.023585            0.002656              0.029395   \n",
       "std                      0.151752            0.051464              0.168910   \n",
       "min                      0.000000            0.000000              0.000000   \n",
       "25%                      0.000000            0.000000              0.000000   \n",
       "50%                      0.000000            0.000000              0.000000   \n",
       "75%                      0.000000            0.000000              0.000000   \n",
       "max                      1.000000            1.000000              1.000000   \n",
       "\n",
       "       res_county_AUGUSTA  res_county_BEDFORD  res_county_BOTETOURT  \\\n",
       "count       262838.000000       262838.000000         262838.000000   \n",
       "mean             0.007906            0.007921              0.003455   \n",
       "std              0.088564            0.088648              0.058674   \n",
       "min              0.000000            0.000000              0.000000   \n",
       "25%              0.000000            0.000000              0.000000   \n",
       "50%              0.000000            0.000000              0.000000   \n",
       "75%              0.000000            0.000000              0.000000   \n",
       "max              1.000000            1.000000              1.000000   \n",
       "\n",
       "       res_county_BUCHANAN  ...     sex_Female       sex_Male  \\\n",
       "count        262838.000000  ...  262838.000000  262838.000000   \n",
       "mean              0.002332  ...       0.538415       0.461585   \n",
       "std               0.048237  ...       0.498523       0.498523   \n",
       "min               0.000000  ...       0.000000       0.000000   \n",
       "25%               0.000000  ...       0.000000       0.000000   \n",
       "50%               0.000000  ...       1.000000       0.000000   \n",
       "75%               0.000000  ...       1.000000       1.000000   \n",
       "max               1.000000  ...       1.000000       1.000000   \n",
       "\n",
       "       race_American Indian/Alaska Native     race_Asian     race_Black  \\\n",
       "count                       262838.000000  262838.000000  262838.000000   \n",
       "mean                             0.000053       0.057899       0.237138   \n",
       "std                              0.007298       0.233552       0.425329   \n",
       "min                              0.000000       0.000000       0.000000   \n",
       "25%                              0.000000       0.000000       0.000000   \n",
       "50%                              0.000000       0.000000       0.000000   \n",
       "75%                              0.000000       0.000000       0.000000   \n",
       "max                              1.000000       1.000000       1.000000   \n",
       "\n",
       "       race_Multiple/Other  race_Native Hawaiian/Other Pacific Islander  \\\n",
       "count        262838.000000                                262838.000000   \n",
       "mean              0.033922                                     0.000057   \n",
       "std               0.181029                                     0.007554   \n",
       "min               0.000000                                     0.000000   \n",
       "25%               0.000000                                     0.000000   \n",
       "50%               0.000000                                     0.000000   \n",
       "75%               0.000000                                     0.000000   \n",
       "max               1.000000                                     1.000000   \n",
       "\n",
       "          race_White  ethnicity_Hispanic/Latino  ethnicity_Non-Hispanic/Latino  \n",
       "count  262838.000000              262838.000000                  262838.000000  \n",
       "mean        0.670930                   0.077797                       0.922203  \n",
       "std         0.469876                   0.267852                       0.267852  \n",
       "min         0.000000                   0.000000                       0.000000  \n",
       "25%         0.000000                   0.000000                       1.000000  \n",
       "50%         1.000000                   0.000000                       1.000000  \n",
       "75%         1.000000                   0.000000                       1.000000  \n",
       "max         1.000000                   1.000000                       1.000000  \n",
       "\n",
       "[8 rows x 94 columns]"
      ]
     },
     "execution_count": 9,
     "metadata": {},
     "output_type": "execute_result"
    }
   ],
   "source": [
    "X.describe()"
   ]
  },
  {
   "cell_type": "code",
   "execution_count": 10,
   "id": "a9d53f3c",
   "metadata": {},
   "outputs": [
    {
     "data": {
      "text/plain": [
       "No     244784\n",
       "Yes     18054\n",
       "Name: hosp_yn, dtype: int64"
      ]
     },
     "execution_count": 10,
     "metadata": {},
     "output_type": "execute_result"
    }
   ],
   "source": [
    "y.value_counts()"
   ]
  },
  {
   "cell_type": "code",
   "execution_count": 11,
   "id": "40044c5b",
   "metadata": {},
   "outputs": [
    {
     "data": {
      "text/plain": [
       "Counter({'No': 183583, 'Yes': 13545})"
      ]
     },
     "execution_count": 11,
     "metadata": {},
     "output_type": "execute_result"
    }
   ],
   "source": [
    "from sklearn.model_selection import train_test_split\n",
    "X_train, X_test, y_train, y_test = train_test_split(X, y, random_state=1)\n",
    "Counter(y_train)"
   ]
  },
  {
   "cell_type": "code",
   "execution_count": 12,
   "id": "32133cd1",
   "metadata": {},
   "outputs": [],
   "source": [
    "# Oversampling\n",
    "#naive random oversampling, resample the trainging data with the RandomOverSampler"
   ]
  },
  {
   "cell_type": "code",
   "execution_count": 13,
   "id": "cd6b631b",
   "metadata": {},
   "outputs": [
    {
     "data": {
      "text/plain": [
       "Counter({'No': 183583, 'Yes': 183583})"
      ]
     },
     "execution_count": 13,
     "metadata": {},
     "output_type": "execute_result"
    }
   ],
   "source": [
    "from imblearn.over_sampling import RandomOverSampler\n",
    "ros = RandomOverSampler(random_state=1)\n",
    "X_resampled, y_resampled = ros.fit_resample(X_train, y_train)\n",
    "\n",
    "Counter(y_resampled)\n"
   ]
  },
  {
   "cell_type": "code",
   "execution_count": 14,
   "id": "37c845d9",
   "metadata": {},
   "outputs": [
    {
     "name": "stderr",
     "output_type": "stream",
     "text": [
      "C:\\Users\\afann\\anaconda3\\envs\\mlenv\\lib\\site-packages\\sklearn\\linear_model\\_logistic.py:765: ConvergenceWarning: lbfgs failed to converge (status=1):\n",
      "STOP: TOTAL NO. of ITERATIONS REACHED LIMIT.\n",
      "\n",
      "Increase the number of iterations (max_iter) or scale the data as shown in:\n",
      "    https://scikit-learn.org/stable/modules/preprocessing.html\n",
      "Please also refer to the documentation for alternative solver options:\n",
      "    https://scikit-learn.org/stable/modules/linear_model.html#logistic-regression\n",
      "  extra_warning_msg=_LOGISTIC_SOLVER_CONVERGENCE_MSG)\n"
     ]
    },
    {
     "data": {
      "text/plain": [
       "LogisticRegression(random_state=1)"
      ]
     },
     "execution_count": 14,
     "metadata": {},
     "output_type": "execute_result"
    }
   ],
   "source": [
    "# Train the Logistic Regression model using the resampled data\n",
    "from sklearn.linear_model import LogisticRegression\n",
    "\n",
    "model = LogisticRegression(solver='lbfgs', random_state=1)\n",
    "model.fit(X_resampled, y_resampled)"
   ]
  },
  {
   "cell_type": "code",
   "execution_count": 15,
   "id": "b7d71c6e",
   "metadata": {},
   "outputs": [
    {
     "data": {
      "text/plain": [
       "array([[47413, 13788],\n",
       "       [ 1220,  3289]], dtype=int64)"
      ]
     },
     "execution_count": 15,
     "metadata": {},
     "output_type": "execute_result"
    }
   ],
   "source": [
    "# Display the confusion matrix\n",
    "from sklearn.metrics import confusion_matrix\n",
    "y_pred = model.predict(X_test)\n",
    "confusion_matrix(y_test, y_pred)"
   ]
  },
  {
   "cell_type": "code",
   "execution_count": 16,
   "id": "b75213ea",
   "metadata": {},
   "outputs": [
    {
     "data": {
      "text/plain": [
       "0.7520697962002245"
      ]
     },
     "execution_count": 16,
     "metadata": {},
     "output_type": "execute_result"
    }
   ],
   "source": [
    "# Calculated the balanced accuracy score\n",
    "from sklearn.metrics import balanced_accuracy_score\n",
    "balanced_accuracy_score(y_test, y_pred)"
   ]
  },
  {
   "cell_type": "code",
   "execution_count": 17,
   "id": "45cd3bb8",
   "metadata": {},
   "outputs": [
    {
     "name": "stdout",
     "output_type": "stream",
     "text": [
      "                   pre       rec       spe        f1       geo       iba       sup\n",
      "\n",
      "         No       0.97      0.77      0.73      0.86      0.75      0.57     61201\n",
      "        Yes       0.19      0.73      0.77      0.30      0.75      0.56      4509\n",
      "\n",
      "avg / total       0.92      0.77      0.73      0.83      0.75      0.57     65710\n",
      "\n"
     ]
    }
   ],
   "source": [
    "# Print the imbalanced classification report\n",
    "from imblearn.metrics import classification_report_imbalanced\n",
    "print(classification_report_imbalanced(y_test, y_pred))"
   ]
  },
  {
   "cell_type": "code",
   "execution_count": 18,
   "id": "31cb974a",
   "metadata": {},
   "outputs": [],
   "source": [
    "#SMOTE Oversampling"
   ]
  },
  {
   "cell_type": "code",
   "execution_count": 19,
   "id": "60555662",
   "metadata": {},
   "outputs": [],
   "source": [
    "# Resample the training data with SMOTE\n",
    "from imblearn.over_sampling import SMOTE\n",
    "X_resampled, y_resampled = SMOTE(random_state=1,\n",
    "sampling_strategy='auto').fit_resample(\n",
    "   X_train, y_train)"
   ]
  },
  {
   "cell_type": "code",
   "execution_count": 20,
   "id": "bead534f",
   "metadata": {},
   "outputs": [
    {
     "name": "stderr",
     "output_type": "stream",
     "text": [
      "C:\\Users\\afann\\anaconda3\\envs\\mlenv\\lib\\site-packages\\sklearn\\linear_model\\_logistic.py:765: ConvergenceWarning: lbfgs failed to converge (status=1):\n",
      "STOP: TOTAL NO. of ITERATIONS REACHED LIMIT.\n",
      "\n",
      "Increase the number of iterations (max_iter) or scale the data as shown in:\n",
      "    https://scikit-learn.org/stable/modules/preprocessing.html\n",
      "Please also refer to the documentation for alternative solver options:\n",
      "    https://scikit-learn.org/stable/modules/linear_model.html#logistic-regression\n",
      "  extra_warning_msg=_LOGISTIC_SOLVER_CONVERGENCE_MSG)\n"
     ]
    },
    {
     "data": {
      "text/plain": [
       "LogisticRegression(random_state=1)"
      ]
     },
     "execution_count": 20,
     "metadata": {},
     "output_type": "execute_result"
    }
   ],
   "source": [
    "# Train the Logistic Regression model using the resampled data\n",
    "model = LogisticRegression(solver='lbfgs', random_state=1)\n",
    "model.fit(X_resampled, y_resampled)"
   ]
  },
  {
   "cell_type": "code",
   "execution_count": 21,
   "id": "6689b652",
   "metadata": {},
   "outputs": [
    {
     "data": {
      "text/plain": [
       "0.7528826289042332"
      ]
     },
     "execution_count": 21,
     "metadata": {},
     "output_type": "execute_result"
    }
   ],
   "source": [
    "# Calculated the balanced accuracy score\n",
    "y_pred = model.predict(X_test)\n",
    "balanced_accuracy_score(y_test, y_pred)"
   ]
  },
  {
   "cell_type": "code",
   "execution_count": 22,
   "id": "4b5e2008",
   "metadata": {},
   "outputs": [
    {
     "data": {
      "text/plain": [
       "array([[48164, 13037],\n",
       "       [ 1268,  3241]], dtype=int64)"
      ]
     },
     "execution_count": 22,
     "metadata": {},
     "output_type": "execute_result"
    }
   ],
   "source": [
    "# Display the confusion matrix\n",
    "confusion_matrix(y_test, y_pred)"
   ]
  },
  {
   "cell_type": "code",
   "execution_count": 23,
   "id": "5d910fd6",
   "metadata": {},
   "outputs": [
    {
     "name": "stdout",
     "output_type": "stream",
     "text": [
      "                   pre       rec       spe        f1       geo       iba       sup\n",
      "\n",
      "         No       0.97      0.79      0.72      0.87      0.75      0.57     61201\n",
      "        Yes       0.20      0.72      0.79      0.31      0.75      0.56      4509\n",
      "\n",
      "avg / total       0.92      0.78      0.72      0.83      0.75      0.57     65710\n",
      "\n"
     ]
    }
   ],
   "source": [
    "# Print the imbalanced classification report\n",
    "print(classification_report_imbalanced(y_test, y_pred))"
   ]
  },
  {
   "cell_type": "code",
   "execution_count": null,
   "id": "dae3f721",
   "metadata": {},
   "outputs": [],
   "source": []
  }
 ],
 "metadata": {
  "kernelspec": {
   "display_name": "mlev",
   "language": "python",
   "name": "mlev"
  },
  "language_info": {
   "codemirror_mode": {
    "name": "ipython",
    "version": 3
   },
   "file_extension": ".py",
   "mimetype": "text/x-python",
   "name": "python",
   "nbconvert_exporter": "python",
   "pygments_lexer": "ipython3",
   "version": "3.7.10"
  }
 },
 "nbformat": 4,
 "nbformat_minor": 5
}
