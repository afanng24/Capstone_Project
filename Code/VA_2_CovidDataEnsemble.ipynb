{
 "cells": [
  {
   "cell_type": "code",
   "execution_count": 1,
   "metadata": {},
   "outputs": [],
   "source": [
    "import warnings\n",
    "warnings.filterwarnings('ignore')"
   ]
  },
  {
   "cell_type": "code",
   "execution_count": 2,
   "metadata": {},
   "outputs": [],
   "source": [
    "# Warning this is a big dataset and itll take a while"
   ]
  },
  {
   "cell_type": "code",
   "execution_count": 3,
   "metadata": {},
   "outputs": [],
   "source": [
    "import numpy as np\n",
    "import pandas as pd\n",
    "from pathlib import Path\n",
    "from collections import Counter"
   ]
  },
  {
   "cell_type": "code",
   "execution_count": 4,
   "metadata": {},
   "outputs": [],
   "source": [
    "from sklearn.metrics import balanced_accuracy_score\n",
    "from sklearn.metrics import confusion_matrix\n",
    "from imblearn.metrics import classification_report_imbalanced"
   ]
  },
  {
   "cell_type": "code",
   "execution_count": 5,
   "metadata": {},
   "outputs": [],
   "source": [
    "columns = ['res_state','res_county','age_group','sex','race','ethnicity','hosp_yn']\n",
    "\n",
    "target = ['hosp_yn']"
   ]
  },
  {
   "cell_type": "code",
   "execution_count": 6,
   "metadata": {},
   "outputs": [
    {
     "data": {
      "text/html": [
       "<div>\n",
       "<style scoped>\n",
       "    .dataframe tbody tr th:only-of-type {\n",
       "        vertical-align: middle;\n",
       "    }\n",
       "\n",
       "    .dataframe tbody tr th {\n",
       "        vertical-align: top;\n",
       "    }\n",
       "\n",
       "    .dataframe thead th {\n",
       "        text-align: right;\n",
       "    }\n",
       "</style>\n",
       "<table border=\"1\" class=\"dataframe\">\n",
       "  <thead>\n",
       "    <tr style=\"text-align: right;\">\n",
       "      <th></th>\n",
       "      <th>res_state</th>\n",
       "      <th>res_county</th>\n",
       "      <th>age_group</th>\n",
       "      <th>sex</th>\n",
       "      <th>race</th>\n",
       "      <th>ethnicity</th>\n",
       "      <th>hosp_yn</th>\n",
       "    </tr>\n",
       "  </thead>\n",
       "  <tbody>\n",
       "    <tr>\n",
       "      <th>0</th>\n",
       "      <td>VA</td>\n",
       "      <td>NORFOLK CITY</td>\n",
       "      <td>18 to 49 years</td>\n",
       "      <td>Female</td>\n",
       "      <td>Multiple/Other</td>\n",
       "      <td>Hispanic/Latino</td>\n",
       "      <td>No</td>\n",
       "    </tr>\n",
       "    <tr>\n",
       "      <th>1</th>\n",
       "      <td>VA</td>\n",
       "      <td>FREDERICK</td>\n",
       "      <td>18 to 49 years</td>\n",
       "      <td>Female</td>\n",
       "      <td>White</td>\n",
       "      <td>Hispanic/Latino</td>\n",
       "      <td>No</td>\n",
       "    </tr>\n",
       "    <tr>\n",
       "      <th>2</th>\n",
       "      <td>VA</td>\n",
       "      <td>FAIRFAX</td>\n",
       "      <td>18 to 49 years</td>\n",
       "      <td>Male</td>\n",
       "      <td>Black</td>\n",
       "      <td>Hispanic/Latino</td>\n",
       "      <td>No</td>\n",
       "    </tr>\n",
       "    <tr>\n",
       "      <th>3</th>\n",
       "      <td>VA</td>\n",
       "      <td>CULPEPER</td>\n",
       "      <td>18 to 49 years</td>\n",
       "      <td>Male</td>\n",
       "      <td>White</td>\n",
       "      <td>Hispanic/Latino</td>\n",
       "      <td>No</td>\n",
       "    </tr>\n",
       "    <tr>\n",
       "      <th>4</th>\n",
       "      <td>VA</td>\n",
       "      <td>ALBEMARLE</td>\n",
       "      <td>18 to 49 years</td>\n",
       "      <td>Male</td>\n",
       "      <td>White</td>\n",
       "      <td>Hispanic/Latino</td>\n",
       "      <td>No</td>\n",
       "    </tr>\n",
       "  </tbody>\n",
       "</table>\n",
       "</div>"
      ],
      "text/plain": [
       "  res_state    res_county       age_group     sex            race  \\\n",
       "0        VA  NORFOLK CITY  18 to 49 years  Female  Multiple/Other   \n",
       "1        VA     FREDERICK  18 to 49 years  Female           White   \n",
       "2        VA       FAIRFAX  18 to 49 years    Male           Black   \n",
       "3        VA      CULPEPER  18 to 49 years    Male           White   \n",
       "4        VA     ALBEMARLE  18 to 49 years    Male           White   \n",
       "\n",
       "         ethnicity hosp_yn  \n",
       "0  Hispanic/Latino      No  \n",
       "1  Hispanic/Latino      No  \n",
       "2  Hispanic/Latino      No  \n",
       "3  Hispanic/Latino      No  \n",
       "4  Hispanic/Latino      No  "
      ]
     },
     "execution_count": 6,
     "metadata": {},
     "output_type": "execute_result"
    }
   ],
   "source": [
    "df = pd.read_csv('virginia_covid.csv')\n",
    "df.head()"
   ]
  },
  {
   "cell_type": "code",
   "execution_count": 7,
   "metadata": {},
   "outputs": [],
   "source": [
    "# Split the data "
   ]
  },
  {
   "cell_type": "code",
   "execution_count": 8,
   "metadata": {},
   "outputs": [],
   "source": [
    "# Create our features, and drop the laon status and get dummies\n",
    "X = df.drop('hosp_yn', axis=1)\n",
    "X = pd.get_dummies(X)\n",
    "\n",
    "# Create our target\n",
    "y = df['hosp_yn']"
   ]
  },
  {
   "cell_type": "code",
   "execution_count": 9,
   "metadata": {},
   "outputs": [
    {
     "data": {
      "text/plain": [
       "No     244784\n",
       "Yes     18054\n",
       "Name: hosp_yn, dtype: int64"
      ]
     },
     "execution_count": 9,
     "metadata": {},
     "output_type": "execute_result"
    }
   ],
   "source": [
    "y.value_counts()"
   ]
  },
  {
   "cell_type": "code",
   "execution_count": 10,
   "metadata": {},
   "outputs": [],
   "source": [
    "from sklearn.model_selection import train_test_split\n",
    "X_train, X_test, y_train, y_test = train_test_split(X, y, random_state=1)"
   ]
  },
  {
   "cell_type": "code",
   "execution_count": 11,
   "metadata": {},
   "outputs": [],
   "source": [
    "# Balanced Random Forest Classifier"
   ]
  },
  {
   "cell_type": "code",
   "execution_count": 12,
   "metadata": {},
   "outputs": [],
   "source": [
    "# Resample the training data with the BalancedRandomForestClassifier\n",
    "from imblearn.ensemble import BalancedRandomForestClassifier\n",
    "\n",
    "Random_forest = BalancedRandomForestClassifier(n_estimators=100, random_state=1)\n",
    "Random_forest = Random_forest.fit(X_train, y_train)"
   ]
  },
  {
   "cell_type": "code",
   "execution_count": 13,
   "metadata": {},
   "outputs": [
    {
     "data": {
      "text/plain": [
       "0.7498587026640607"
      ]
     },
     "execution_count": 13,
     "metadata": {},
     "output_type": "execute_result"
    }
   ],
   "source": [
    "# Calculated the balanced accuracy score\n",
    "from sklearn.metrics import balanced_accuracy_score\n",
    "\n",
    "y_pred = Random_forest.predict(X_test)\n",
    "balanced_accuracy_score(y_test, y_pred)"
   ]
  },
  {
   "cell_type": "code",
   "execution_count": 14,
   "metadata": {},
   "outputs": [
    {
     "data": {
      "text/plain": [
       "array([[47726, 13475],\n",
       "       [ 1263,  3246]], dtype=int64)"
      ]
     },
     "execution_count": 14,
     "metadata": {},
     "output_type": "execute_result"
    }
   ],
   "source": [
    "# Display the confusion matrix\n",
    "from sklearn.metrics import confusion_matrix\n",
    "confusion_matrix(y_test, y_pred)"
   ]
  },
  {
   "cell_type": "code",
   "execution_count": 15,
   "metadata": {},
   "outputs": [
    {
     "name": "stdout",
     "output_type": "stream",
     "text": [
      "                   pre       rec       spe        f1       geo       iba       sup\n",
      "\n",
      "         No       0.97      0.78      0.72      0.87      0.75      0.56     61201\n",
      "        Yes       0.19      0.72      0.78      0.31      0.75      0.56      4509\n",
      "\n",
      "avg / total       0.92      0.78      0.72      0.83      0.75      0.56     65710\n",
      "\n"
     ]
    }
   ],
   "source": [
    "# Print the imbalanced classification report\n",
    "from imblearn.metrics import classification_report_imbalanced\n",
    "print(classification_report_imbalanced(y_test, y_pred))"
   ]
  },
  {
   "cell_type": "code",
   "execution_count": 16,
   "metadata": {},
   "outputs": [
    {
     "data": {
      "text/plain": [
       "[(0.3352667779766742, 'age_group_65+ years'),\n",
       " (0.2686010014279663, 'age_group_18 to 49 years'),\n",
       " (0.11089467545366466, 'age_group_0 - 17 years'),\n",
       " (0.06740097228690599, 'age_group_50 to 64 years'),\n",
       " (0.01956831312723142, 'race_Black'),\n",
       " (0.01566076556824353, 'race_White'),\n",
       " (0.008024519565596328, 'sex_Male'),\n",
       " (0.007892213131191783, 'sex_Female'),\n",
       " (0.007154657038938565, 'ethnicity_Hispanic/Latino'),\n",
       " (0.0065418065346626525, 'res_county_FAIRFAX'),\n",
       " (0.0058731581685863895, 'ethnicity_Non-Hispanic/Latino'),\n",
       " (0.005312135979755417, 'res_county_PORTSMOUTH CITY'),\n",
       " (0.004681435359065472, 'res_county_NORFOLK CITY'),\n",
       " (0.0046325631725234, 'res_county_MONTGOMERY'),\n",
       " (0.0045884885456824185, 'res_county_PRINCE WILLIAM'),\n",
       " (0.00403897922176762, 'res_county_LOUDOUN'),\n",
       " (0.004010094525307934, 'res_county_VIRGINIA BEACH CITY'),\n",
       " (0.003699432056188894, 'race_Multiple/Other'),\n",
       " (0.0035073526046306707, 'res_county_ALEXANDRIA CITY'),\n",
       " (0.003418924595114255, 'res_county_CHESTERFIELD'),\n",
       " (0.003300816481939843, 'res_county_RICHMOND CITY'),\n",
       " (0.0032377294183788693, 'res_county_ARLINGTON'),\n",
       " (0.0031918743834914694, 'res_county_CHESAPEAKE CITY'),\n",
       " (0.002995505754285201, 'res_county_HENRICO'),\n",
       " (0.0029954596386672435, 'race_Asian'),\n",
       " (0.002925434647725395, 'res_county_CHARLOTTESVILLE CITY'),\n",
       " (0.002760325330117493, 'res_county_ROANOKE CITY'),\n",
       " (0.0027521138708954747, 'res_county_NEWPORT NEWS CITY'),\n",
       " (0.0026331179660442606, 'res_county_WASHINGTON'),\n",
       " (0.00263295804397162, 'res_county_HENRY'),\n",
       " (0.0026216105422641406, 'res_county_PRINCE GEORGE'),\n",
       " (0.0023290934918545345, 'res_county_HAMPTON CITY'),\n",
       " (0.0022561320069493913, 'res_county_DANVILLE CITY'),\n",
       " (0.0022237566317526666, 'res_county_HARRISONBURG CITY'),\n",
       " (0.0021479596821158617, 'res_county_ROCKINGHAM'),\n",
       " (0.0021206755751476936, 'res_county_STAFFORD'),\n",
       " (0.0021006494182371433, 'res_county_ACCOMACK'),\n",
       " (0.0020812115467890857, 'res_county_CULPEPER'),\n",
       " (0.0020281890161883928, 'res_county_FRANKLIN'),\n",
       " (0.0019854683854545604, 'res_county_SUFFOLK CITY'),\n",
       " (0.0019733298342484587, 'res_county_PITTSYLVANIA'),\n",
       " (0.0019258344684944812, 'res_county_ROANOKE'),\n",
       " (0.0017678659553234575, 'res_county_ALBEMARLE'),\n",
       " (0.0017647259446140864, 'res_county_SPOTSYLVANIA'),\n",
       " (0.0016973312279123314, 'res_county_LYNCHBURG CITY'),\n",
       " (0.0015582370804482213, 'res_county_JAMES CITY'),\n",
       " (0.0015253574526050146, 'res_county_TAZEWELL'),\n",
       " (0.0015065938575511005, 'res_county_ISLE OF WIGHT'),\n",
       " (0.0014947304871845797, 'res_county_HANOVER'),\n",
       " (0.0014125409795636013, 'res_county_CAMPBELL'),\n",
       " (0.00139856141275738, 'res_county_PETERSBURG CITY'),\n",
       " (0.0013936110884368066, 'res_county_MANASSAS CITY'),\n",
       " (0.0013874346253268115, 'res_county_FREDERICK'),\n",
       " (0.0013322707557286955, 'res_county_SCOTT'),\n",
       " (0.001324814593213748, 'res_county_CAROLINE'),\n",
       " (0.0012685563424712266, 'res_county_BUCHANAN'),\n",
       " (0.001240592126879418, 'res_county_LEE'),\n",
       " (0.0012375421394170696, 'res_county_SHENANDOAH'),\n",
       " (0.0012064714726176629, 'res_county_YORK'),\n",
       " (0.001193877099565269, 'res_county_CARROLL'),\n",
       " (0.0011692825363508073, 'res_county_HOPEWELL CITY'),\n",
       " (0.001159015182912433, 'res_county_PRINCE EDWARD'),\n",
       " (0.0011420770018045654, 'res_county_DINWIDDIE'),\n",
       " (0.001131004100150911, 'res_county_STAUNTON CITY'),\n",
       " (0.0011118382800311619, 'res_county_GLOUCESTER'),\n",
       " (0.0010884372217839302, 'res_county_SMYTH'),\n",
       " (0.0010865907941509424, 'res_county_FAUQUIER'),\n",
       " (0.0010373631355265582, 'res_county_MECKLENBURG'),\n",
       " (0.0010234554826395205, 'res_county_WISE'),\n",
       " (0.0010226933122123392, 'res_county_AMHERST'),\n",
       " (0.0009919039112263907, 'res_county_LOUISA'),\n",
       " (0.0009900530471305164, 'res_county_WINCHESTER CITY'),\n",
       " (0.0009723246386116174, 'res_county_BEDFORD'),\n",
       " (0.0009695526992665656, 'res_county_ORANGE'),\n",
       " (0.0009449052597301371, 'res_county_PAGE'),\n",
       " (0.0009413702646050112, 'res_county_BOTETOURT'),\n",
       " (0.0009198266119254015, 'res_county_FLUVANNA'),\n",
       " (0.0008649876606869136, 'res_county_RUSSELL'),\n",
       " (0.0008643961031848147, 'res_county_WAYNESBORO CITY'),\n",
       " (0.0008618803078799547, 'res_county_AUGUSTA'),\n",
       " (0.0008494517832120879, 'res_county_FREDERICKSBURG CITY'),\n",
       " (0.000807298962844597, 'res_county_PULASKI'),\n",
       " (0.0008057414497893835, 'res_county_GOOCHLAND'),\n",
       " (0.0007786595191225335, 'res_county_WARREN'),\n",
       " (0.0007717819718135532, 'res_county_HALIFAX'),\n",
       " (0.0007263808047693151, 'res_county_POWHATAN'),\n",
       " (0.0007044696897465937, 'res_county_WYTHE'),\n",
       " (0.0006718074048168301, 'res_county_KING GEORGE'),\n",
       " (0.0006669889250196946, 'res_county_SALEM CITY'),\n",
       " (0.0006377624549448145, 'res_county_ROCKBRIDGE'),\n",
       " (0.0005403682961904976, 'res_county_NEW KENT'),\n",
       " (2.739354249644564e-05, 'race_Native Hawaiian/Other Pacific Islander'),\n",
       " (2.031052709548334e-05, 'race_American Indian/Alaska Native'),\n",
       " (0.0, 'res_state_VA')]"
      ]
     },
     "execution_count": 16,
     "metadata": {},
     "output_type": "execute_result"
    }
   ],
   "source": [
    "# List the features sorted in descending order by feature importance\n",
    "feature_names = X.columns\n",
    "sorted(zip(Random_forest.feature_importances_, feature_names), reverse=True)"
   ]
  },
  {
   "cell_type": "code",
   "execution_count": 17,
   "metadata": {},
   "outputs": [],
   "source": [
    "# easy ensemble adaboost classifer "
   ]
  },
  {
   "cell_type": "code",
   "execution_count": 19,
   "metadata": {},
   "outputs": [],
   "source": [
    "# Train the EasyEnsembleClassifier\n",
    "from imblearn.ensemble import EasyEnsembleClassifier\n",
    "easy = EasyEnsembleClassifier(n_estimators = 100,random_state=1)\n",
    "easy = easy.fit(X_train, y_train)"
   ]
  },
  {
   "cell_type": "code",
   "execution_count": 20,
   "metadata": {},
   "outputs": [
    {
     "data": {
      "text/plain": [
       "0.7518190146506658"
      ]
     },
     "execution_count": 20,
     "metadata": {},
     "output_type": "execute_result"
    }
   ],
   "source": [
    "# Calculated the balanced accuracy score\n",
    "y_pred = easy.predict(X_test)\n",
    "balanced_accuracy_score(y_test, y_pred)"
   ]
  },
  {
   "cell_type": "code",
   "execution_count": 21,
   "metadata": {},
   "outputs": [
    {
     "data": {
      "text/plain": [
       "array([[47233, 13968],\n",
       "       [ 1209,  3300]], dtype=int64)"
      ]
     },
     "execution_count": 21,
     "metadata": {},
     "output_type": "execute_result"
    }
   ],
   "source": [
    "# Display the confusion matrix\n",
    "confusion_matrix(y_test, y_pred)"
   ]
  },
  {
   "cell_type": "code",
   "execution_count": 22,
   "metadata": {},
   "outputs": [
    {
     "name": "stdout",
     "output_type": "stream",
     "text": [
      "                   pre       rec       spe        f1       geo       iba       sup\n",
      "\n",
      "         No       0.98      0.77      0.73      0.86      0.75      0.57     61201\n",
      "        Yes       0.19      0.73      0.77      0.30      0.75      0.56      4509\n",
      "\n",
      "avg / total       0.92      0.77      0.73      0.82      0.75      0.57     65710\n",
      "\n"
     ]
    }
   ],
   "source": [
    "# Print the imbalanced classification report\n",
    "print(classification_report_imbalanced(y_test, y_pred))"
   ]
  },
  {
   "cell_type": "code",
   "execution_count": null,
   "metadata": {},
   "outputs": [],
   "source": []
  }
 ],
 "metadata": {
  "kernelspec": {
   "display_name": "mlev",
   "language": "python",
   "name": "mlev"
  },
  "language_info": {
   "codemirror_mode": {
    "name": "ipython",
    "version": 3
   },
   "file_extension": ".py",
   "mimetype": "text/x-python",
   "name": "python",
   "nbconvert_exporter": "python",
   "pygments_lexer": "ipython3",
   "version": "3.7.10"
  }
 },
 "nbformat": 4,
 "nbformat_minor": 4
}
